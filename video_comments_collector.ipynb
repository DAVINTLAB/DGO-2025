{
  "cells": [
    {
      "cell_type": "code",
      "execution_count": 19,
      "metadata": {
        "id": "yPPDyAVoJHaz"
      },
      "outputs": [],
      "source": [
        "import csv\n",
        "import requests\n",
        "import re"
      ]
    },
    {
      "cell_type": "code",
      "execution_count": 1,
      "metadata": {
        "colab": {
          "base_uri": "https://localhost:8080/"
        },
        "id": "4FH7FyqPJVG7",
        "outputId": "d1a821cb-c461-4155-f59e-52fe2ced0f03"
      },
      "outputs": [],
      "source": [
        "params = {\n",
        "    \"part\": \"snippet\",\n",
        "    \"videoId\": input(\"Id do vídeo: \"),\n",
        "    \"key\": input(\"Chave de api: \"),\n",
        "    \"maxResults\": 100\n",
        "}"
      ]
    },
    {
      "cell_type": "code",
      "execution_count": 21,
      "metadata": {
        "id": "Ar6T2uoHKIFW"
      },
      "outputs": [],
      "source": [
        "comments = []\n",
        "next_page_token = None"
      ]
    },
    {
      "cell_type": "code",
      "execution_count": 22,
      "metadata": {
        "collapsed": true,
        "id": "AaGqD2wGKqtq"
      },
      "outputs": [],
      "source": [
        "while True:\n",
        "  if next_page_token:\n",
        "    params[\"pageToken\"] = next_page_token\n",
        "\n",
        "  response = requests.get(\"https://www.googleapis.com/youtube/v3/commentThreads\", params=params)\n",
        "  data = response.json()\n",
        "\n",
        "  if \"items\" not in data:\n",
        "    print(\"Nenhum comentário encontrado\")\n",
        "    break\n",
        "\n",
        "  for item in data[\"items\"]:\n",
        "    comment = item[\"snippet\"][\"topLevelComment\"]\n",
        "    author = comment[\"snippet\"][\"authorDisplayName\"]\n",
        "    message = comment[\"snippet\"][\"textDisplay\"]\n",
        "    like_count = comment[\"snippet\"][\"likeCount\"]\n",
        "    time = comment[\"snippet\"][\"publishedAt\"]\n",
        "\n",
        "    comments.append({\"author\": author, \"message\": message, \"like_count\": like_count, \"time\": time})\n",
        "\n",
        "    next_page_token = data.get(\"nextPageToken\")\n",
        "  if not next_page_token:\n",
        "    break"
      ]
    },
    {
      "cell_type": "code",
      "execution_count": 23,
      "metadata": {
        "id": "4kFqCSOa6zKi"
      },
      "outputs": [],
      "source": [
        "top_100_comments = sorted(comments, key=lambda x: x[\"like_count\"], reverse=True)[:100]\n",
        "\n",
        "for comment in top_100_comments:\n",
        "  comment[\"message\"] = comment[\"message\"].replace(\"\\n\", \" \")\n",
        "  comment[\"message\"] = comment[\"message\"].replace(\"\\r\", \" \")\n",
        "  comment[\"message\"] = comment[\"message\"].replace('\"', \"'\")\n",
        "  comment[\"message\"] = comment[\"message\"].replace(\"&quot;\", \"'\")\n",
        "  comment[\"message\"] = comment[\"message\"].replace(\";\", \".\")\n",
        "  comment[\"message\"] = re.sub(r'<[^>]+>', '', comment[\"message\"])"
      ]
    },
    {
      "cell_type": "code",
      "execution_count": 24,
      "metadata": {
        "id": "tLf8jjDZ6IRq"
      },
      "outputs": [],
      "source": [
        "output_file = \"youtube_comments.csv\"\n",
        "\n",
        "with open(output_file, \"w\", encoding=\"utf-8-sig\", newline=\"\") as csv_file:\n",
        "  writer = csv.DictWriter(csv_file, fieldnames=['author', 'message', 'like_count', 'time'], delimiter=\";\")\n",
        "  writer.writeheader()\n",
        "  writer.writerows(top_100_comments)"
      ]
    }
  ],
  "metadata": {
    "colab": {
      "provenance": []
    },
    "kernelspec": {
      "display_name": "Python 3",
      "name": "python3"
    },
    "language_info": {
      "codemirror_mode": {
        "name": "ipython",
        "version": 3
      },
      "file_extension": ".py",
      "mimetype": "text/x-python",
      "name": "python",
      "nbconvert_exporter": "python",
      "pygments_lexer": "ipython3",
      "version": "3.10.0"
    }
  },
  "nbformat": 4,
  "nbformat_minor": 0
}
