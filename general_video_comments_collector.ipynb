{
  "nbformat": 4,
  "nbformat_minor": 0,
  "metadata": {
    "colab": {
      "provenance": []
    },
    "kernelspec": {
      "name": "python3",
      "display_name": "Python 3"
    },
    "language_info": {
      "name": "python"
    }
  },
  "cells": [
    {
      "cell_type": "code",
      "execution_count": null,
      "metadata": {
        "id": "yPPDyAVoJHaz"
      },
      "outputs": [],
      "source": [
        "import csv\n",
        "import requests"
      ]
    },
    {
      "cell_type": "code",
      "source": [
        "params = {\n",
        "    \"part\": \"snippet\",\n",
        "    \"videoId\": input(\"Id do vídeo: \"),\n",
        "    \"key\": input(\"Chave de api: \"),\n",
        "    \"maxResults\": 100\n",
        "}"
      ],
      "metadata": {
        "id": "4FH7FyqPJVG7"
      },
      "execution_count": null,
      "outputs": []
    },
    {
      "cell_type": "code",
      "source": [
        "next_page_token = None\n",
        "total_comments = 0"
      ],
      "metadata": {
        "id": "Ar6T2uoHKIFW"
      },
      "execution_count": null,
      "outputs": []
    },
    {
      "cell_type": "code",
      "source": [
        "output_file = \"youtube_comments.csv\"\n",
        "\n",
        "with open(output_file, mode=\"w\", encoding=\"utf-8\", newline=\"\") as file:\n",
        "        # Configurar o writer para o CSV\n",
        "        writer = csv.writer(file)\n",
        "        writer.writerow([\"author\", \"message\", \"like_count\", \"time\"])\n",
        "\n",
        "        while True:\n",
        "            if next_page_token:\n",
        "                params[\"pageToken\"] = next_page_token\n",
        "\n",
        "            response = requests.get(\"https://www.googleapis.com/youtube/v3/commentThreads\", params=params)\n",
        "            data = response.json()\n",
        "\n",
        "            if \"items\" not in data:\n",
        "                print(\"Nenhum comentário encontrado\")\n",
        "                break\n",
        "\n",
        "            for item in data[\"items\"]:\n",
        "                comment = item[\"snippet\"][\"topLevelComment\"]\n",
        "                author = comment[\"snippet\"][\"authorDisplayName\"]\n",
        "                message = comment[\"snippet\"][\"textDisplay\"]\n",
        "                like_count = comment[\"snippet\"][\"likeCount\"]\n",
        "                time = comment[\"snippet\"][\"publishedAt\"]\n",
        "\n",
        "                #Escreve no csv\n",
        "                writer.writerow([author, message, like_count, time])\n",
        "                total_comments += 1\n",
        "\n",
        "            next_page_token = data.get(\"nextPageToken\")\n",
        "            if not next_page_token:\n",
        "                break"
      ],
      "metadata": {
        "colab": {
          "base_uri": "https://localhost:8080/"
        },
        "id": "AaGqD2wGKqtq",
        "outputId": "6f866fae-2eae-483f-f55a-428971764617"
      },
      "execution_count": null,
      "outputs": [
        {
          "output_type": "stream",
          "name": "stdout",
          "text": [
            "Nenhum comentário encontrado\n"
          ]
        }
      ]
    }
  ]
}