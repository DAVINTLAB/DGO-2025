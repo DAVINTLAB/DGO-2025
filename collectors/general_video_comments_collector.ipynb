{
  "cells": [
    {
      "cell_type": "code",
      "execution_count": 25,
      "metadata": {
        "id": "yPPDyAVoJHaz"
      },
      "outputs": [],
      "source": [
        "import csv\n",
        "import requests"
      ]
    },
    {
      "cell_type": "code",
      "execution_count": 26,
      "metadata": {
        "id": "4FH7FyqPJVG7"
      },
      "outputs": [],
      "source": [
        "params = {\n",
        "    \"part\": \"snippet\",\n",
        "    \"videoId\": input(\"Id do vídeo: \"),\n",
        "    \"key\": input(\"Chave de api: \"),\n",
        "    \"maxResults\": 100\n",
        "}"
      ]
    },
    {
      "cell_type": "code",
      "execution_count": 27,
      "metadata": {
        "id": "Ar6T2uoHKIFW"
      },
      "outputs": [],
      "source": [
        "next_page_token = None\n",
        "total_comments = 0"
      ]
    },
    {
      "cell_type": "code",
      "execution_count": 28,
      "metadata": {
        "colab": {
          "base_uri": "https://localhost:8080/"
        },
        "id": "AaGqD2wGKqtq",
        "outputId": "6f866fae-2eae-483f-f55a-428971764617"
      },
      "outputs": [],
      "source": [
        "import re\n",
        "\n",
        "output_file = \"youtube_comments.csv\"\n",
        "\n",
        "with open(output_file, mode=\"w\", encoding=\"utf-8\", newline=\"\") as file:\n",
        "        # Configurar o writer para o CSV\n",
        "        writer = csv.writer(file, delimiter=\";\")\n",
        "        writer.writerow([\"author\", \"message\", \"like_count\", \"time\"])\n",
        "\n",
        "        while True:\n",
        "            if next_page_token:\n",
        "                params[\"pageToken\"] = next_page_token\n",
        "\n",
        "            response = requests.get(\"https://www.googleapis.com/youtube/v3/commentThreads\", params=params)\n",
        "            data = response.json()\n",
        "\n",
        "            if \"items\" not in data:\n",
        "                print(\"Nenhum comentário encontrado\")\n",
        "                break\n",
        "\n",
        "            for item in data[\"items\"]:\n",
        "                comment = item[\"snippet\"][\"topLevelComment\"]\n",
        "                author = comment[\"snippet\"][\"authorDisplayName\"]\n",
        "                message = comment[\"snippet\"][\"textDisplay\"]\n",
        "                like_count = comment[\"snippet\"][\"likeCount\"]\n",
        "                time = comment[\"snippet\"][\"publishedAt\"]\n",
        "\n",
        "                message = message.replace(\"\\n\", \" \")\n",
        "                message = message.replace(\"\\r\", \" \")\n",
        "                message = message.replace('\"', \"'\")\n",
        "                message = message.replace(\"&quot;\", \"'\")\n",
        "                message = message.replace(\";\", \".\")\n",
        "                message = re.sub(r'<[^>]+>', '', message)\n",
        "\n",
        "                #Escreve no csv\n",
        "                writer.writerow([author, message, like_count, time])\n",
        "                total_comments += 1\n",
        "\n",
        "            next_page_token = data.get(\"nextPageToken\")\n",
        "            if not next_page_token:\n",
        "                break"
      ]
    }
  ],
  "metadata": {
    "colab": {
      "provenance": []
    },
    "kernelspec": {
      "display_name": "Python 3",
      "name": "python3"
    },
    "language_info": {
      "name": "python"
    }
  },
  "nbformat": 4,
  "nbformat_minor": 0
}
